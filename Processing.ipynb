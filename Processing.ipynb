{
  "cells": [
    {
      "cell_type": "markdown",
      "id": "b4adba45-fb5b-4f17-baf1-8347e4878b62",
      "metadata": {
        "id": "b4adba45-fb5b-4f17-baf1-8347e4878b62"
      },
      "source": [
        "# Script to cut out parts of screenshots and filter them to keep only cards\n",
        "\n",
        "It takes screenshots of two sizes which are available to us, finds objects in them and finally filters out cards.\n",
        "\n",
        "NOTE: sizes are set specifically to screenshots we have right now. Idea for improvement would be reworking filtering code to filter based on sides ratio."
      ]
    },
    {
      "cell_type": "code",
      "execution_count": null,
      "id": "961a4f09-b099-4432-87c2-1979ae9b2bdb",
      "metadata": {
        "id": "961a4f09-b099-4432-87c2-1979ae9b2bdb"
      },
      "outputs": [],
      "source": [
        "import cv2 as cv\n",
        "import numpy as np\n",
        "import random\n",
        "import os\n",
        "import shutil"
      ]
    },
    {
      "cell_type": "markdown",
      "id": "701e0d9f-deca-46ed-b966-b3870bed9e70",
      "metadata": {
        "id": "701e0d9f-deca-46ed-b966-b3870bed9e70"
      },
      "source": [
        "Following function is going to take in image, change its color spectrum and apply threshold of 170. I've tried different color spectrums and thresholds and these seem to be working the best.\n",
        "\n",
        "Next, it's going to apply OpenCV findContours function, mask them and cut out of original picture. If the cut out picture is bigger than 65 percentile of all pictrues it's going to be saved in separate folder."
      ]
    },
    {
      "cell_type": "code",
      "execution_count": null,
      "id": "8b56aa3a-947c-48be-accd-1108c495154c",
      "metadata": {
        "id": "8b56aa3a-947c-48be-accd-1108c495154c"
      },
      "outputs": [],
      "source": [
        "def cutout_custom_percentile_170(image_name):\n",
        "    \n",
        "    image_orig = cv.imread(f'to_cut/our_game/{image_name}')\n",
        "    \n",
        "    image_name = image_name[:-4]\n",
        "    \n",
        "    x_orig, y_orig, z_orig = image_orig.shape\n",
        "    \n",
        "    image = image_orig.copy()\n",
        "    img_rgb = cv.cvtColor(image, cv.COLOR_BGR2RGB)\n",
        "    img_gray = cv.cvtColor(img_rgb, cv.COLOR_BGR2GRAY)\n",
        "    ret, thresh = cv.threshold(img_gray, 170, 255, cv.THRESH_BINARY)\n",
        "    \n",
        "    contours, hierarchy = cv.findContours(image=thresh, mode=cv.RETR_TREE, method=cv.CHAIN_APPROX_NONE)\n",
        " \n",
        "    xs = []\n",
        "    ys = []\n",
        "\n",
        "    all_n = len(contours)\n",
        "\n",
        "    randomlist = random.sample(range(0,10000), all_n)\n",
        "\n",
        "    for i in randomlist:\n",
        "        idx = randomlist.index(i)\n",
        "        mask = np.zeros_like(img_gray)\n",
        "        cv.drawContours(mask, contours, idx, 255, -1)\n",
        "\n",
        "        res = cv.bitwise_and(image, image, mask = mask)\n",
        "        res_copy = res.copy()\n",
        "\n",
        "        (y, x) = np.where(mask==255)\n",
        "        (topy, topx) = (np.min(y), np.min(x))\n",
        "        (bottomy, bottomx) = (np.max(y), np.max(x))\n",
        "        out=res_copy[topy:bottomy+1, topx:bottomx+1]\n",
        "        x, y = out.shape[:2]\n",
        "        \n",
        "        xs.append(x)\n",
        "        ys.append(y)\n",
        "        \n",
        "        if x > (np.percentile(xs, 65)):\n",
        "            if y > (np.percentile(ys, 65)):\n",
        "                cv.imwrite(f'test_cutout/{image_name}_cutout_masked_{idx}_170.jpg', out)\n",
        "#     print(\"Done, 170!\")"
      ]
    },
    {
      "cell_type": "code",
      "execution_count": null,
      "id": "1dc2f01a-5808-4ffb-adfb-d200c2d7292f",
      "metadata": {
        "tags": [],
        "id": "1dc2f01a-5808-4ffb-adfb-d200c2d7292f"
      },
      "outputs": [],
      "source": [
        "# applying functions\n",
        "\n",
        "directory = os.fsencode('to_cut/our_game/')\n",
        "\n",
        "for i in os.listdir(directory):\n",
        "    filename = os.fsdecode(i)\n",
        "\n",
        "    if filename.endswith(\".jpg\") or filename.endswith(\".png\"):\n",
        "#         print(filename)\n",
        "\n",
        "        cutout_custom_percentile_170(filename)"
      ]
    },
    {
      "cell_type": "markdown",
      "source": [
        "Following function is filtering pictures to keep only cards. We only had two screenshot sizes available, so I manually chose sizes of pictures to keep."
      ],
      "metadata": {
        "id": "mAgaPxTtuEvP"
      },
      "id": "mAgaPxTtuEvP"
    },
    {
      "cell_type": "code",
      "execution_count": null,
      "id": "bc951d12-d912-4c4a-8883-52e14304ec3d",
      "metadata": {
        "tags": [],
        "id": "bc951d12-d912-4c4a-8883-52e14304ec3d"
      },
      "outputs": [],
      "source": [
        "# this filters pictures to keep cards based on their size\n",
        "\n",
        "directory = os.fsencode('test_cutout/')\n",
        "\n",
        "for i in os.listdir(directory):\n",
        "    filename = os.fsdecode(i)\n",
        "\n",
        "    if filename.endswith(\".jpg\") or filename.endswith(\".png\"):\n",
        "#         print(filename)\n",
        "\n",
        "        image = cv.imread(f'test_cutout/{filename}')\n",
        "        y, x, z = image.shape\n",
        "#         print(x, y)\n",
        "        \n",
        "        if (x >= 100 and x <= 110) or (x == 153) or (x >= 20 and x <= 25):\n",
        "            if (y >= 130 and y <= 145) or (y >= 48 and y <= 50) or (y >= 56 and y <= 60) or (y >= 70 and y <= 75):\n",
        "                shutil.copy(f'test_cutout/{filename}', 'test_cutout/dataset')\n",
        "                \n",
        "        elif (x >= 180 and x <= 185) or (x >= 40 and x <= 45) or (x >=270 and x <=280):\n",
        "            if (y >= 245 and y <= 255) or (y >= 115 and y <= 120) or (y >= 140 and y <= 145) or (y >= 80 and y <= 95):\n",
        "                shutil.copy(f'test_cutout/{filename}', 'test_cutout/dataset')"
      ]
    },
    {
      "cell_type": "markdown",
      "source": [
        "To improve model results I use following function to pad small images."
      ],
      "metadata": {
        "id": "6tZVd7jZuUS1"
      },
      "id": "6tZVd7jZuUS1"
    },
    {
      "cell_type": "code",
      "execution_count": null,
      "id": "42aab48e-19fc-47b6-8f3d-6d353807525f",
      "metadata": {
        "id": "42aab48e-19fc-47b6-8f3d-6d353807525f"
      },
      "outputs": [],
      "source": [
        "# padding small images\n",
        "\n",
        "directory = os.fsencode('test_cutout/dataset/')\n",
        "\n",
        "for i in os.listdir(directory):\n",
        "    filename = os.fsdecode(i)\n",
        "    \n",
        "    if filename.endswith(\".jpg\"):\n",
        "        image = cv.imread(f'test_cutout/dataset/{filename}')\n",
        "        \n",
        "        image_name = filename[:-4]\n",
        "        \n",
        "        y,x,z = image.shape\n",
        "\n",
        "        if (x >= 15 and x <= 25):\n",
        "#             print(x,y)\n",
        "            if (y >= 130 and y <= 140):\n",
        "                top = 0\n",
        "                bottom = top\n",
        "                left = int((100 - x)/2)\n",
        "                right = left\n",
        "                filled_image = cv.copyMakeBorder(image, top, bottom, left, right, cv.BORDER_CONSTANT, None, (0,0,0))\n",
        "                cv.imwrite(f'test_cutout/dataset/{image_name}_filled_image.jpg', filled_image)\n",
        "                \n",
        "            elif (y >= 45 and y <= 80):\n",
        "                top = int((138-y)/2)\n",
        "                bottom = top\n",
        "                left = int((100 - x)/2)\n",
        "                right = left\n",
        "                filled_image = cv.copyMakeBorder(image, top, bottom, left, right, cv.BORDER_CONSTANT, None, (0,0,0))\n",
        "                cv.imwrite(f'test_cutout/dataset/{image_name}_filled_image.jpg', filled_image)\n",
        "                \n",
        "        elif (x >= 40 and x <= 50):\n",
        "            if (y >= 240 and y <= 250):\n",
        "                top = 0\n",
        "                bottom = top\n",
        "                left = int((183 - x)/2)\n",
        "                right = left\n",
        "                filled_image = cv.copyMakeBorder(image, top, bottom, left, right, cv.BORDER_CONSTANT, None, (0,0,0))\n",
        "                cv.imwrite(f'test_cutout/dataset/{image_name}_filled_image.jpg', filled_image)\n",
        "                \n",
        "            elif (y >= 110 and y <= 120):\n",
        "                top = int((249-y)/2)\n",
        "                bottom = top\n",
        "                left = int((183 - x)/2)\n",
        "                right = left\n",
        "                filled_image = cv.copyMakeBorder(image, top, bottom, left, right, cv.BORDER_CONSTANT, None, (0,0,0))\n",
        "                cv.imwrite(f'test_cutout/dataset/{image_name}_filled_image.jpg', filled_image)\n",
        "                \n",
        "            elif (y >= 140 and y <= 150):\n",
        "                top = int((249-y)/2)\n",
        "                bottom = top\n",
        "                left = int((183 - x)/2)\n",
        "                right = left\n",
        "                filled_image = cv.copyMakeBorder(image, top, bottom, left, right, cv.BORDER_CONSTANT, None, (0,0,0))\n",
        "                cv.imwrite(f'test_cutout/dataset/{image_name}_filled_image.jpg', filled_image)\n",
        "                \n",
        "            elif (y >= 80 and y <= 95):\n",
        "                top = int((249-y)/2)\n",
        "                bottom = top\n",
        "                left = int((183 - x)/2)\n",
        "                right = left\n",
        "                filled_image = cv.copyMakeBorder(image, top, bottom, left, right, cv.BORDER_CONSTANT, None, (0,0,0))\n",
        "                cv.imwrite(f'test_cutout/dataset/{image_name}_filled_image.jpg', filled_image)"
      ]
    }
  ],
  "metadata": {
    "kernelspec": {
      "display_name": "Python 3",
      "language": "python",
      "name": "python3"
    },
    "language_info": {
      "codemirror_mode": {
        "name": "ipython",
        "version": 3
      },
      "file_extension": ".py",
      "mimetype": "text/x-python",
      "name": "python",
      "nbconvert_exporter": "python",
      "pygments_lexer": "ipython3",
      "version": "3.8.8"
    },
    "colab": {
      "provenance": []
    }
  },
  "nbformat": 4,
  "nbformat_minor": 5
}